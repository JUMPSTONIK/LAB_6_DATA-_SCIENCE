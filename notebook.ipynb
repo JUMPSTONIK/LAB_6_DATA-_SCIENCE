{
 "cells": [
  {
   "cell_type": "code",
   "execution_count": 1,
   "metadata": {},
   "outputs": [
    {
     "data": {
      "application/javascript": [
       "IPython.notebook.set_autosave_interval(0)"
      ]
     },
     "metadata": {},
     "output_type": "display_data"
    },
    {
     "name": "stdout",
     "output_type": "stream",
     "text": [
      "Autosave disabled\n"
     ]
    }
   ],
   "source": [
    "%autosave 0"
   ]
  },
  {
   "cell_type": "markdown",
   "metadata": {},
   "source": [
    "# Part 1\n",
    "## Get tweet data"
   ]
  },
  {
   "cell_type": "code",
   "execution_count": 2,
   "metadata": {},
   "outputs": [],
   "source": [
    "# Imports\n",
    "\n",
    "import csv\n",
    "import pathlib\n",
    "import sys\n",
    "\n",
    "from tweepy import API \n",
    "from tweepy import Cursor \n",
    "from tweepy import OAuthHandler \n",
    "\n",
    "sys.path.insert(1, r'../src/')\n",
    "\n",
    "from twitter_credentials import Config"
   ]
  },
  {
   "cell_type": "code",
   "execution_count": 3,
   "metadata": {
    "scrolled": true
   },
   "outputs": [],
   "source": [
    "# Authentication\n",
    "\n",
    "auth = OAuthHandler(Config.TW_API_KEY, Config.TW_API_KEY_SECRET)\n",
    "auth.set_access_token(Config.ACCESS_TOKEN, Config.ACCESS_TOKEN_KEY)\n",
    "\n",
    "# wait_on_rate_limit, The parameter waits until Twitter allows more requests\n",
    "api = API(auth, wait_on_rate_limit=True)"
   ]
  },
  {
   "cell_type": "code",
   "execution_count": 4,
   "metadata": {},
   "outputs": [],
   "source": [
    "# Get tweets function\n",
    "\n",
    "def get_tweets(keyword, num, since, path='', retweets=False, mode='print'):\n",
    "    \n",
    "    if not retweets:\n",
    "        keyword = keyword + '-filter:retweets'\n",
    "        \n",
    "    \n",
    "    if mode == 'print':\n",
    "        # Avoid retweets using -filter:retweets in q parameter\n",
    "        for tweet in Cursor(api.search, q=keyword, since=since).items(num):\n",
    "                print (tweet.created_at, tweet.text, '\\n')\n",
    "                \n",
    "    elif mode == 'save':\n",
    "        with open(path / 'data.csv', 'a') as csv_file:\n",
    "            csv_writer = csv.writer(csv_file)\n",
    "            \n",
    "            for tweet in Cursor(api.search, q=keyword, since=since).items(num):\n",
    "                csv_writer.writerow([\n",
    "                    tweet.id,\n",
    "                    tweet.created_at,\n",
    "                    tweet.text,\n",
    "                    tweet.favorite_count,\n",
    "                    tweet.retweet_count\n",
    "                ])"
   ]
  },
  {
   "cell_type": "code",
   "execution_count": 5,
   "metadata": {
    "scrolled": true
   },
   "outputs": [
    {
     "name": "stdout",
     "output_type": "stream",
     "text": [
      "2020-09-07 21:09:16 La medida será el tiempo que se considere necesario y no se fija plazo hasta que las condiciones lo hagan viable. https://t.co/LbDQb5WbcH \n",
      "\n",
      "2020-09-07 21:00:01 Lucha contra el COVID 😷 se contagió, se recuperó 👏🏼y sigue en la pelea en los hospitales de Guatemala 🇬🇹\n",
      "\n",
      "En… https://t.co/WmyMpZ2e0I \n",
      "\n",
      "2020-09-07 20:45:52 Se disminuye la cantidad de pruebas de COVID-19 que se realizan en Guatemala - https://t.co/EmWUje20rg https://t.co/SWBx9aOvG6 \n",
      "\n",
      "2020-09-07 20:41:24 Organizaciones aseguran que Guatemala NO está preparado para segunda ola de COVID-19 - https://t.co/1dEwu9wBpS https://t.co/LVbb9uCaKO \n",
      "\n",
      "2020-09-07 20:41:12 #ReporteNacional \n",
      "🔴 Con un total de 17 mil exámenes realizados en la última semana, Guatemala registró su cifra más… https://t.co/rOFGKHK33x \n",
      "\n",
      "2020-09-07 20:37:05 #ReporteNacional \n",
      "🔴 Guatemala registró 3.771 casos nuevos de Covid-19 la última semana. Son cerca de dos mil casos… https://t.co/DC4ycXRq2Z \n",
      "\n",
      "2020-09-07 20:25:45 Once this covid shit is over I’m going to Guatemala \n",
      "\n",
      "2020-09-07 20:10:05 Ex diputados tránsfugas, corruptos, ladrones y traidores que robaron millones con plazas fantasmas, favorecidos por… https://t.co/40DdfrujF2 \n",
      "\n",
      "2020-09-07 20:09:44 Ex diputados tránsfugas, corruptos, ladrones y traidores que robaron millones con plazas fantasmas, favorecidos por… https://t.co/4uogBTRzY8 \n",
      "\n",
      "2020-09-07 20:08:39 @Aecid_Guatemala @achguate_ @HelvetasGuate @CooperacionESP CURA CIENTIFICA DEL COVID 19,100% VER FACEBOOK \" MEDICIN… https://t.co/CZ9wxOgI77 \n",
      "\n"
     ]
    }
   ],
   "source": [
    "# Simple test\n",
    "\n",
    "# COVID-19 declared  pandemic on 11 March\n",
    "get_tweets('Covid Guatemala', 10, '2020-03-11', mode='print')"
   ]
  },
  {
   "cell_type": "code",
   "execution_count": 6,
   "metadata": {},
   "outputs": [],
   "source": [
    "# Get tweets using multiple keywords\n",
    "\n",
    "keywords = ['Coronavirus Guatemala','CoronavirusGT', 'Covid19GT', 'CovidGT', 'CovidGuatemala']\n",
    "num = 1000\n",
    "since = '2020-03-11'\n",
    "mode = 'save'\n",
    "\n",
    "# Save tweets in \"data\" folder\n",
    "path = pathlib.Path.cwd() / '../data/'\n",
    "\n",
    "for kword in keywords:\n",
    "    get_tweets(kword, num, since, path=path, mode=mode)"
   ]
  },
  {
   "cell_type": "markdown",
   "metadata": {},
   "source": [
    "# Part 2\n",
    "## Use the information collected"
   ]
  },
  {
   "cell_type": "code",
   "execution_count": 7,
   "metadata": {},
   "outputs": [
    {
     "data": {
      "text/html": [
       "<div>\n",
       "<style scoped>\n",
       "    .dataframe tbody tr th:only-of-type {\n",
       "        vertical-align: middle;\n",
       "    }\n",
       "\n",
       "    .dataframe tbody tr th {\n",
       "        vertical-align: top;\n",
       "    }\n",
       "\n",
       "    .dataframe thead th {\n",
       "        text-align: right;\n",
       "    }\n",
       "</style>\n",
       "<table border=\"1\" class=\"dataframe\">\n",
       "  <thead>\n",
       "    <tr style=\"text-align: right;\">\n",
       "      <th></th>\n",
       "      <th>0</th>\n",
       "      <th>1</th>\n",
       "      <th>2</th>\n",
       "      <th>3</th>\n",
       "      <th>4</th>\n",
       "    </tr>\n",
       "  </thead>\n",
       "  <tbody>\n",
       "    <tr>\n",
       "      <th>0</th>\n",
       "      <td>1303080841627791360</td>\n",
       "      <td>2020-09-07 21:20:57</td>\n",
       "      <td>De los inhumados en el Cementerio La Verbena, ...</td>\n",
       "      <td>0</td>\n",
       "      <td>1</td>\n",
       "    </tr>\n",
       "    <tr>\n",
       "      <th>1</th>\n",
       "      <td>1303068019963301888</td>\n",
       "      <td>2020-09-07 20:30:00</td>\n",
       "      <td>El Gobierno de Guatemala, a través de la Secre...</td>\n",
       "      <td>4</td>\n",
       "      <td>3</td>\n",
       "    </tr>\n",
       "    <tr>\n",
       "      <th>2</th>\n",
       "      <td>1303064793461350400</td>\n",
       "      <td>2020-09-07 20:17:11</td>\n",
       "      <td>@_SJPeace_ And migrant workers from Mexico and...</td>\n",
       "      <td>0</td>\n",
       "      <td>0</td>\n",
       "    </tr>\n",
       "    <tr>\n",
       "      <th>3</th>\n",
       "      <td>1303064170729033729</td>\n",
       "      <td>2020-09-07 20:14:42</td>\n",
       "      <td>-La típica de EL PAPA FRANCISCO DICE *inserte ...</td>\n",
       "      <td>3</td>\n",
       "      <td>0</td>\n",
       "    </tr>\n",
       "    <tr>\n",
       "      <th>4</th>\n",
       "      <td>1303060075674730499</td>\n",
       "      <td>2020-09-07 19:58:26</td>\n",
       "      <td>*Paja del día por parte de aquellos mentirosos...</td>\n",
       "      <td>0</td>\n",
       "      <td>0</td>\n",
       "    </tr>\n",
       "  </tbody>\n",
       "</table>\n",
       "</div>"
      ],
      "text/plain": [
       "                     0                    1  \\\n",
       "0  1303080841627791360  2020-09-07 21:20:57   \n",
       "1  1303068019963301888  2020-09-07 20:30:00   \n",
       "2  1303064793461350400  2020-09-07 20:17:11   \n",
       "3  1303064170729033729  2020-09-07 20:14:42   \n",
       "4  1303060075674730499  2020-09-07 19:58:26   \n",
       "\n",
       "                                                   2  3  4  \n",
       "0  De los inhumados en el Cementerio La Verbena, ...  0  1  \n",
       "1  El Gobierno de Guatemala, a través de la Secre...  4  3  \n",
       "2  @_SJPeace_ And migrant workers from Mexico and...  0  0  \n",
       "3  -La típica de EL PAPA FRANCISCO DICE *inserte ...  3  0  \n",
       "4  *Paja del día por parte de aquellos mentirosos...  0  0  "
      ]
     },
     "execution_count": 7,
     "metadata": {},
     "output_type": "execute_result"
    }
   ],
   "source": [
    "import pandas as pd\n",
    "import numpy as np\n",
    "\n",
    "import pathlib\n",
    "\n",
    "# data folder\n",
    "path = pathlib.Path.cwd() / '../data/'\n",
    "\n",
    "df = pd.read_csv(path / 'data.csv', header=None)\n",
    "df.head()"
   ]
  }
 ],
 "metadata": {
  "jupytext": {
   "formats": "ipynb,py"
  },
  "kernelspec": {
   "display_name": "Python 3",
   "language": "python",
   "name": "python3"
  },
  "language_info": {
   "codemirror_mode": {
    "name": "ipython",
    "version": 3
   },
   "file_extension": ".py",
   "mimetype": "text/x-python",
   "name": "python",
   "nbconvert_exporter": "python",
   "pygments_lexer": "ipython3",
   "version": "3.8.5"
  }
 },
 "nbformat": 4,
 "nbformat_minor": 4
}
